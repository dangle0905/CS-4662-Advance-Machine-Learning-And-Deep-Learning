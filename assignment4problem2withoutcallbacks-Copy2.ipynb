{
 "cells": [
  {
   "cell_type": "markdown",
   "metadata": {},
   "source": [
    "# Advanced Machine Learning (CS4662). Cal State Univ. LA, CS Dept.\n",
    "### Dr. Mohammad Porhoumayoun\n",
    "----------------------------------------------------------------------------------------------\n",
    "----------------------------------------------------------------------------------------------"
   ]
  },
  {
   "cell_type": "markdown",
   "metadata": {},
   "source": [
    "## Deep Convolutional Neural Networks (CNN) with Keras + TensorFlow\n",
    "----------------------------------------------------------------------------------------------\n",
    "----------------------------------------------------------------------------------------------"
   ]
  },
  {
   "cell_type": "code",
   "execution_count": 1,
   "metadata": {},
   "outputs": [],
   "source": [
    "#2- Fashion Image Recognition using Deep Convolutional Neural Networks: \n",
    " \n",
    "#In this question, we try to improve the accuracy of the Fashion Image Recognition system that \n",
    "#we developed in the class in Lab5. Download and open the Lab5 ipython tutorial file (it is on \n",
    "#CANVAS). Add the following lines on the top of your code to fix random seed for reproducibility:\n",
    "\n",
    "import numpy as np \n",
    "np.random.seed(0) \n",
    " \n",
    "#Now, Modify the CNN structure and parameters to increase the testing accuracy as much as you \n",
    "#can, but I expect  At LEAST 93% Accuracy on the TESTING Set.  \n",
    " \n",
    "#I want you to be creative and use all knowledge you have gained from this class to improve the \n",
    "#results  (don’t  change  the  dataset,  you  can  only  change  the  CNN  structure  or  learning \n",
    "#parameters). Here are some ideas that you may want to use: \n",
    "    #1- Changing the structure or parameters of the CNN including all layers (Conv Layers, Pooling \n",
    "    #layers, Dropout Layers, Fully Connected Layers, ...). \n",
    "    #2- Making the Network more complex (when it is underfit), or less complex (when it is \n",
    "    #overfit). \n",
    "    #3- Improve the training process (e.g. changing the batch size, changing the epochs, changing \n",
    "    #the optimization or loss) \n",
    " \n",
    " \n",
    "#Please Notice: I- It is obvious that there are infinite number ways to change the code to improve the \n",
    "#results. Thus, I expect to receive a Unique code from each student. \n",
    "#II- You need to do Trial & Error to achieve the desired accuracy. That is why I decided to use \n",
    "#the Fashion Dataset since it includes small grayscale images that can be processed fast. \n",
    "#However, make sure to start early enough!  \n",
    "#III- I recommend to run your code on Google Colab with the GPU runtime to make the \n",
    "#process faster. \n",
    "#IV- One student, who achieves the highest accuracy in the class, will get 10% bonus on the \n",
    "#overall grade of the class! "
   ]
  },
  {
   "cell_type": "code",
   "execution_count": 2,
   "metadata": {},
   "outputs": [],
   "source": [
    "import tensorflow as tf\n",
    "from tensorflow import keras"
   ]
  },
  {
   "cell_type": "code",
   "execution_count": 3,
   "metadata": {},
   "outputs": [],
   "source": [
    "\n",
    "# \"Sequential\" model lets us to define a stack of neural network layers\n",
    "from keras.models import Sequential\n",
    "\n",
    "# import the \"core\" layers:\n",
    "from keras.layers import Dense, Dropout, Activation, Flatten\n",
    "\n",
    "# CNN\n",
    "from keras.layers import Convolution2D, MaxPooling2D\n",
    "\n",
    "# import some utilities to transform our data\n",
    "from keras.utils import np_utils\n",
    "\n",
    "import numpy as np\n",
    "\n",
    "from tensorflow.keras import layers"
   ]
  },
  {
   "cell_type": "markdown",
   "metadata": {},
   "source": [
    "## Let's use the Fashion-MNIST Dataset including 60,000 28x28 grayscale images of 10 fashion categories, along with a test set of 10,000 images:\n",
    "\n",
    "0:\tT-shirt/top, \n",
    "1:\tTrouser,\n",
    "2:\tPullover,\n",
    "3:\tDress,\n",
    "4:\tCoat,\n",
    "5:\tSandal,\n",
    "6:\tShirt,\n",
    "7:\tSneaker,\n",
    "8:\tBag,\n",
    "9:\tAnkle boot "
   ]
  },
  {
   "cell_type": "code",
   "execution_count": 4,
   "metadata": {},
   "outputs": [],
   "source": [
    "# Keras will download MNIST dataset for us:\n",
    "from keras.datasets import fashion_mnist\n",
    " \n",
    "# By default, the first 60k of MNIST has been defined as training and the rest as testing set: \n",
    "(X_train, y_train), (X_test, y_test) = fashion_mnist.load_data()"
   ]
  },
  {
   "cell_type": "code",
   "execution_count": 5,
   "metadata": {},
   "outputs": [
    {
     "name": "stdout",
     "output_type": "stream",
     "text": [
      "(60000, 28, 28)\n",
      "(10000, 28, 28)\n"
     ]
    }
   ],
   "source": [
    "print(X_train.shape)\n",
    "print(X_test.shape)"
   ]
  },
  {
   "cell_type": "code",
   "execution_count": 6,
   "metadata": {},
   "outputs": [
    {
     "data": {
      "image/png": "[encoded data removed]",
      "text/plain": [
       "<Figure size 432x288 with 1 Axes>"
      ]
     },
     "metadata": {
      "needs_background": "light"
     },
     "output_type": "display_data"
    },
    {
     "data": {
      "image/png": "[encoded data removed]",
      "text/plain": [
       "<Figure size 432x288 with 1 Axes>"
      ]
     },
     "metadata": {
      "needs_background": "light"
     },
     "output_type": "display_data"
    },
    {
     "data": {
      "image/png": "[encoded data removed]",
      "text/plain": [
       "<Figure size 432x288 with 1 Axes>"
      ]
     },
     "metadata": {
      "needs_background": "light"
     },
     "output_type": "display_data"
    },
    {
     "data": {
      "image/png": "[encoded data removed]",
      "text/plain": [
       "<Figure size 432x288 with 1 Axes>"
      ]
     },
     "metadata": {
      "needs_background": "light"
     },
     "output_type": "display_data"
    }
   ],
   "source": [
    "%matplotlib inline\n",
    "\n",
    "import matplotlib.image as mpimg\n",
    "import matplotlib.pyplot as plt\n",
    "\n",
    "imgplot = plt.imshow(X_train[3,:,:],cmap='viridis')\n",
    "plt.show()\n",
    "imgplot = plt.imshow(X_train[16,:,:],cmap='viridis')\n",
    "plt.show()\n",
    "imgplot = plt.imshow(X_train[1,:,:],cmap='plasma')\n",
    "plt.show()\n",
    "imgplot = plt.imshow(X_train[9,:,:],cmap='magma')\n",
    "plt.show()\n"
   ]
  },
  {
   "cell_type": "code",
   "execution_count": 7,
   "metadata": {},
   "outputs": [],
   "source": [
    "X_train = X_train.reshape(X_train.shape[0], 28, 28, 1)\n",
    "X_test = X_test.reshape(X_test.shape[0], 28, 28, 1)"
   ]
  },
  {
   "cell_type": "code",
   "execution_count": 8,
   "metadata": {},
   "outputs": [
    {
     "name": "stdout",
     "output_type": "stream",
     "text": [
      "(60000, 28, 28, 1)\n",
      "(10000, 28, 28, 1)\n"
     ]
    }
   ],
   "source": [
    "print(X_train.shape)\n",
    "print(X_test.shape)"
   ]
  },
  {
   "cell_type": "code",
   "execution_count": 9,
   "metadata": {},
   "outputs": [],
   "source": [
    "# simply normalize the features to the range of [0,1]:\n",
    "X_train = X_train.astype('float32')\n",
    "X_test = X_test.astype('float32')\n",
    "X_train /= 255\n",
    "X_test /= 255"
   ]
  },
  {
   "cell_type": "code",
   "execution_count": 10,
   "metadata": {},
   "outputs": [
    {
     "name": "stdout",
     "output_type": "stream",
     "text": [
      "(60000,)\n",
      "[9 0 0 3 0 2 7 2 5 5]\n"
     ]
    }
   ],
   "source": [
    "# output label:\n",
    "print (y_train.shape)\n",
    "print (y_train[:10])"
   ]
  },
  {
   "cell_type": "code",
   "execution_count": 11,
   "metadata": {},
   "outputs": [],
   "source": [
    "# OneHotEncoding for the output label:\n",
    "y_train = np_utils.to_categorical(y_train, 10)\n",
    "y_test = np_utils.to_categorical(y_test, 10)\n"
   ]
  },
  {
   "cell_type": "code",
   "execution_count": 12,
   "metadata": {},
   "outputs": [
    {
     "name": "stdout",
     "output_type": "stream",
     "text": [
      "(60000, 10)\n",
      "[[0. 0. 0. 0. 0. 0. 0. 0. 0. 1.]\n",
      " [1. 0. 0. 0. 0. 0. 0. 0. 0. 0.]\n",
      " [1. 0. 0. 0. 0. 0. 0. 0. 0. 0.]\n",
      " [0. 0. 0. 1. 0. 0. 0. 0. 0. 0.]\n",
      " [1. 0. 0. 0. 0. 0. 0. 0. 0. 0.]\n",
      " [0. 0. 1. 0. 0. 0. 0. 0. 0. 0.]\n",
      " [0. 0. 0. 0. 0. 0. 0. 1. 0. 0.]\n",
      " [0. 0. 1. 0. 0. 0. 0. 0. 0. 0.]\n",
      " [0. 0. 0. 0. 0. 1. 0. 0. 0. 0.]\n",
      " [0. 0. 0. 0. 0. 1. 0. 0. 0. 0.]]\n"
     ]
    }
   ],
   "source": [
    "# Label after OneHotEncoding:\n",
    "print (y_train.shape)\n",
    "print (y_train[:10])"
   ]
  },
  {
   "cell_type": "markdown",
   "metadata": {},
   "source": [
    "## Define the Network Architecture (model):"
   ]
  },
  {
   "cell_type": "code",
   "execution_count": 25,
   "metadata": {},
   "outputs": [],
   "source": [
    "# Declare Sequential model fro our network:\n",
    "model = Sequential()"
   ]
  },
  {
   "cell_type": "code",
   "execution_count": 26,
   "metadata": {},
   "outputs": [
    {
     "name": "stdout",
     "output_type": "stream",
     "text": [
      "(None, 28, 28, 512)\n",
      "(None, 9, 9, 512)\n"
     ]
    }
   ],
   "source": [
    "# CNN first layer (with 32 3x3 filter):\n",
    "#default value 32,3,3\n",
    "model.add(Convolution2D(512, (28,28), activation='relu', input_shape=(28,28,1), padding=\"same\"))\n",
    "print(model.output_shape) # with no zero padding -> (None, 26, 26, 32)\n",
    "\n",
    "# Pooling Layer:\n",
    "model.add(MaxPooling2D(pool_size=(3,3)))\n",
    "print(model.output_shape)\n",
    "\n",
    "\n",
    "# If your image batch is of N images of HxW size with C channels: \n",
    "# theano uses the NCHW ordering while tensorflow uses the NHWC ordering."
   ]
  },
  {
   "cell_type": "code",
   "execution_count": 27,
   "metadata": {},
   "outputs": [
    {
     "name": "stdout",
     "output_type": "stream",
     "text": [
      "(None, 9, 9, 512)\n",
      "(None, 3, 3, 512)\n",
      "(None, 3, 3, 512)\n",
      "(None, 1, 1, 512)\n",
      "(None, 1, 1, 4096)\n"
     ]
    }
   ],
   "source": [
    "# more hidden layers:\n",
    "#default value 32,3,3\n",
    "model.add(Convolution2D(512, (14, 14), activation='relu', padding=\"same\"))\n",
    "print(model.output_shape)\n",
    "\n",
    "# Pooling Layer:\n",
    "model.add(MaxPooling2D(pool_size=(3,3)))\n",
    "print(model.output_shape)\n",
    "\n",
    "model.add(Convolution2D(512, (7,7), activation='relu', padding=\"same\"))\n",
    "print(model.output_shape)\n",
    "\n",
    "# Pooling Layer:\n",
    "model.add(MaxPooling2D(pool_size=(3,3)))\n",
    "print(model.output_shape)\n",
    "\n",
    "model.add(Convolution2D(4096, (1,1), activation='relu', padding=\"same\"))\n",
    "print(model.output_shape)\n",
    "\n",
    "\n",
    "# Dropout layer to avoid overfitting\n",
    "model.add(Dropout(0.25)) \n"
   ]
  },
  {
   "cell_type": "code",
   "execution_count": 28,
   "metadata": {},
   "outputs": [
    {
     "name": "stdout",
     "output_type": "stream",
     "text": [
      "(None, 4096)\n",
      "(None, 128)\n",
      "(None, 10)\n"
     ]
    }
   ],
   "source": [
    "# output Fully connected Dense layers:\n",
    "model.add(Flatten())\n",
    "print(model.output_shape)\n",
    "\n",
    "model.add(Dense(128, activation='relu'))\n",
    "print(model.output_shape)\n",
    "\n",
    "model.add(Dropout(0.5))\n",
    "model.add(Dense(10, activation='softmax'))\n",
    "print(model.output_shape)"
   ]
  },
  {
   "cell_type": "code",
   "execution_count": null,
   "metadata": {},
   "outputs": [],
   "source": []
  },
  {
   "cell_type": "markdown",
   "metadata": {},
   "source": [
    "## Compile the model:\n",
    "#### We need to compile the model and then it will be ready to train it:"
   ]
  },
  {
   "cell_type": "code",
   "execution_count": 29,
   "metadata": {},
   "outputs": [
    {
     "name": "stdout",
     "output_type": "stream",
     "text": [
      "Model: \"sequential_1\"\n",
      "_________________________________________________________________\n",
      " Layer (type)                Output Shape              Param #   \n",
      "=================================================================\n",
      " conv2d_2 (Conv2D)           (None, 28, 28, 512)       401920    \n",
      "                                                                 \n",
      " max_pooling2d_1 (MaxPooling  (None, 9, 9, 512)        0         \n",
      " 2D)                                                             \n",
      "                                                                 \n",
      " conv2d_3 (Conv2D)           (None, 9, 9, 512)         51380736  \n",
      "                                                                 \n",
      " max_pooling2d_2 (MaxPooling  (None, 3, 3, 512)        0         \n",
      " 2D)                                                             \n",
      "                                                                 \n",
      " conv2d_4 (Conv2D)           (None, 3, 3, 512)         12845568  \n",
      "                                                                 \n",
      " max_pooling2d_3 (MaxPooling  (None, 1, 1, 512)        0         \n",
      " 2D)                                                             \n",
      "                                                                 \n",
      " conv2d_5 (Conv2D)           (None, 1, 1, 4096)        2101248   \n",
      "                                                                 \n",
      " dropout_2 (Dropout)         (None, 1, 1, 4096)        0         \n",
      "                                                                 \n",
      " flatten_1 (Flatten)         (None, 4096)              0         \n",
      "                                                                 \n",
      " dense_2 (Dense)             (None, 128)               524416    \n",
      "                                                                 \n",
      " dropout_3 (Dropout)         (None, 128)               0         \n",
      "                                                                 \n",
      " dense_3 (Dense)             (None, 10)                1290      \n",
      "                                                                 \n",
      "=================================================================\n",
      "Total params: 67,255,178\n",
      "Trainable params: 67,255,178\n",
      "Non-trainable params: 0\n",
      "_________________________________________________________________\n",
      "None\n"
     ]
    }
   ],
   "source": [
    "model.compile(loss='categorical_crossentropy',metrics=['accuracy'],\n",
    "              optimizer='adam')\n",
    "# more info about loss functions: https://keras.io/losses\n",
    "# more infor about Optimizers: https://keras.io/optimizers\n",
    "\n",
    "print(model.summary())"
   ]
  },
  {
   "cell_type": "code",
   "execution_count": 18,
   "metadata": {},
   "outputs": [
    {
     "name": "stdout",
     "output_type": "stream",
     "text": [
      "You must install pydot (`pip install pydot`) and install graphviz (see instructions at https://graphviz.gitlab.io/download/) for plot_model/model_to_dot to work.\n"
     ]
    }
   ],
   "source": [
    "keras.utils.plot_model(model, show_shapes=True)"
   ]
  },
  {
   "cell_type": "code",
   "execution_count": 19,
   "metadata": {},
   "outputs": [],
   "source": [
    "# 320 = (3x3+1)x32 filters\n",
    "# 9248 = (3x3x32+1)x32 filters\n",
    "# 802944 = (6272+1)x128\n",
    "# 1290 = (128+1)x10"
   ]
  },
  {
   "cell_type": "markdown",
   "metadata": {},
   "source": [
    "## Training:"
   ]
  },
  {
   "cell_type": "code",
   "execution_count": 20,
   "metadata": {
    "scrolled": false
   },
   "outputs": [
    {
     "name": "stdout",
     "output_type": "stream",
     "text": [
      "Epoch 1/5\n",
      "1875/1875 [==============================] - 827s 438ms/step - loss: 0.4669 - accuracy: 0.8350\n",
      "Epoch 2/5\n",
      "1875/1875 [==============================] - 859s 458ms/step - loss: 0.3178 - accuracy: 0.8862\n",
      "Epoch 3/5\n",
      "1875/1875 [==============================] - 816s 435ms/step - loss: 0.2759 - accuracy: 0.8995\n",
      "Epoch 4/5\n",
      "1875/1875 [==============================] - 772s 412ms/step - loss: 0.2511 - accuracy: 0.9097\n",
      "Epoch 5/5\n",
      "1875/1875 [==============================] - 549s 293ms/step - loss: 0.2335 - accuracy: 0.9150\n"
     ]
    }
   ],
   "source": [
    "history = model.fit(X_train, y_train, batch_size=32, epochs=5, verbose=1)\n",
    "# history = model.fit(X_train, y_train, validation_split=0.25, batch_size=32, epochs=5, verbose=1)\n",
    "\n",
    "# batch_size: Integer or None. Number of samples per gradient update. \n",
    "# epochs: Number of iteration over the entire training data. \n",
    "# verbose: 0, 1, or 2. how want to see the training progress. 0 = silent, 1 = progress bar, 2 = one line per epoch.\n",
    "# validation_split: Float between 0 and 1. Fraction of the training data to be used as validation data. \n",
    "# You can add some callbacks to get a view on internal states and statistics of the model during training:\n",
    "# https://keras.io/callbacks/     "
   ]
  },
  {
   "cell_type": "code",
   "execution_count": 21,
   "metadata": {},
   "outputs": [],
   "source": [
    "# Training with callbacks:\n",
    "# callback = tf.keras.callbacks.EarlyStopping(monitor='val_loss', patience=2, min_delta=0)\n",
    "# fitted_model = model.fit(X_train, y_train, validation_split=0.25, \n",
    "#                       batch_size=32, epochs=5, callbacks=[callback], verbose=1)\n",
    "\n",
    "# min_delta: Minimum change in the monitored quantity to qualify as an improvement, i.e. an absolute change of less than min_delta, will count as no improvement.\n",
    "# patience: Number of epochs with no improvement after which training will be stopped."
   ]
  },
  {
   "cell_type": "code",
   "execution_count": 22,
   "metadata": {},
   "outputs": [
    {
     "data": {
      "text/plain": [
       "<matplotlib.legend.Legend at 0x25ba29a6e50>"
      ]
     },
     "execution_count": 22,
     "metadata": {},
     "output_type": "execute_result"
    },
    {
     "data": {
      "image/png": "[encoded data removed]",
      "text/plain": [
       "<Figure size 432x288 with 1 Axes>"
      ]
     },
     "metadata": {
      "needs_background": "light"
     },
     "output_type": "display_data"
    },
    {
     "data": {
      "image/png": "[encoded data removed]",
      "text/plain": [
       "<Figure size 432x288 with 1 Axes>"
      ]
     },
     "metadata": {
      "needs_background": "light"
     },
     "output_type": "display_data"
    }
   ],
   "source": [
    "import matplotlib.pyplot as plt\n",
    "\n",
    "%matplotlib inline\n",
    "\n",
    "accuracy = history.history['accuracy']\n",
    "#val_accuracy = history.history['val_accuracy']\n",
    "loss = history.history['loss']\n",
    "#val_loss = history.history['val_loss']\n",
    "epochs = range(len(accuracy))\n",
    "plt.plot(epochs, accuracy, 'b-', label='Training accuracy')\n",
    "#plt.plot(epochs, val_accuracy, 'b', label='Validation accuracy')\n",
    "plt.title('Training and validation accuracy')\n",
    "plt.legend()\n",
    "plt.figure()\n",
    "plt.plot(epochs, loss, 'r-', label='Training loss')\n",
    "#plt.plot(epochs, val_loss, 'b', label='Validation loss')\n",
    "plt.title('Training and validation loss')\n",
    "plt.legend()\n",
    "# plt.show()"
   ]
  },
  {
   "cell_type": "markdown",
   "metadata": {},
   "source": [
    "## Testing:"
   ]
  },
  {
   "cell_type": "code",
   "execution_count": 23,
   "metadata": {},
   "outputs": [],
   "source": [
    "predicted_classes = model.predict(X_test)"
   ]
  },
  {
   "cell_type": "code",
   "execution_count": 24,
   "metadata": {},
   "outputs": [
    {
     "name": "stdout",
     "output_type": "stream",
     "text": [
      "313/313 [==============================] - 17s 53ms/step - loss: 0.2212 - accuracy: 0.9185\n",
      "The accuracy is:  0.9185000061988831\n"
     ]
    }
   ],
   "source": [
    "# Testing:\n",
    "score = model.evaluate(X_test, y_test, verbose=1)\n",
    "print('The accuracy is: ', score[1])"
   ]
  },
  {
   "cell_type": "code",
   "execution_count": null,
   "metadata": {},
   "outputs": [],
   "source": []
  },
  {
   "cell_type": "code",
   "execution_count": null,
   "metadata": {},
   "outputs": [],
   "source": []
  }
 ],
 "metadata": {
  "kernelspec": {
   "display_name": "Python 3",
   "language": "python",
   "name": "python3"
  },
  "language_info": {
   "codemirror_mode": {
    "name": "ipython",
    "version": 3
   },
   "file_extension": ".py",
   "mimetype": "text/x-python",
   "name": "python",
   "nbconvert_exporter": "python",
   "pygments_lexer": "ipython3",
   "version": "3.8.8"
  }
 },
 "nbformat": 4,
 "nbformat_minor": 2
}
